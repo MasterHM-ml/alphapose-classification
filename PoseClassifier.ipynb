{
 "cells": [
  {
   "cell_type": "code",
   "execution_count": 1,
   "source": [
    "from Embedding import convert_to_pandas, return_data\n",
    "data = convert_to_pandas(f='alphapose-results.json')"
   ],
   "outputs": [],
   "metadata": {}
  },
  {
   "cell_type": "code",
   "execution_count": 2,
   "source": [
    "embeddings, df = return_data()"
   ],
   "outputs": [],
   "metadata": {}
  },
  {
   "cell_type": "markdown",
   "source": [
    "# project"
   ],
   "metadata": {}
  },
  {
   "cell_type": "code",
   "execution_count": 1,
   "source": [
    "# import numpy as np\n",
    "# import pandas as pd\n",
    "# import PIL\n",
    "# import cv2\n",
    "\n",
    "from Embedding import return_data\n",
    "from sklearn.model_selection import train_test_split"
   ],
   "outputs": [],
   "metadata": {}
  },
  {
   "cell_type": "code",
   "execution_count": 2,
   "source": [
    "embedding, dataframe = return_data(path_to_json='alphapose-results.json')\n",
    "keypoints = [list(x.keypoints.values()) for x in embedding]"
   ],
   "outputs": [
    {
     "output_type": "stream",
     "name": "stdout",
     "text": [
      "Annotation 2021-09-27 161106.png\n",
      "Annotation 2021-09-27 161106_.png\n",
      "Annotation 2021-09-27 161106__.png\n",
      "Annotation 2021-09-27 161544.png\n",
      "Annotation 2021-09-27 161631.png\n",
      "Annotation 2021-09-27 162025.png\n",
      "Annotation 2021-09-27 162133.png\n",
      "Annotation 2021-09-27 162201.png\n",
      "Annotation 2021-09-27 162241.png\n",
      "Annotation 2021-09-27 162337.png\n",
      "Annotation 2021-09-27 162401.png\n",
      "Annotation 2021-09-27 162426.png\n",
      "Annotation 2021-09-27 162603.png\n",
      "Annotation 2021-09-27 162738.png\n",
      "Annotation 2021-09-27 162822.png\n",
      "Annotation 2021-09-27 163000.png\n",
      "Annotation 2021-09-27 163024.png\n",
      "Annotation 2021-09-27 163048.png\n",
      "Annotation 2021-09-27 163104.png\n",
      "Annotation 2021-09-27 163128.png\n",
      "Annotation 2021-09-27 163241.png\n",
      "Annotation 2021-09-27 163328.png\n",
      "Annotation 2021-09-27 163419.png\n",
      "Annotation 2021-09-27 163459.png\n",
      "Annotation 2021-09-27 163632.png\n",
      "Annotation 2021-09-27 164302.png\n",
      "Annotation 2021-09-27 164329.png\n",
      "Annotation 2021-09-27 164409.png\n",
      "Annotation 2021-09-27 164442.png\n",
      "Annotation 2021-09-27 164507.png\n",
      "Annotation 2021-09-27 164619.png\n",
      "Annotation 2021-09-27 164645.png\n",
      "Annotation 2021-09-27 164743.png\n",
      "Annotation 2021-09-27 164847.png\n",
      "Annotation 2021-09-27 165105.png\n",
      "Annotation 2021-09-27 165140.png\n",
      "Annotation 2021-09-27 165507.png\n",
      "Annotation 2021-09-27 165838.png\n",
      "Annotation 2021-09-27 165903.png\n",
      "Annotation 2021-09-27 165926.png\n",
      "Annotation 2021-09-27 165948.png\n",
      "Annotation 2021-09-27 170024.png\n",
      "Annotation 2021-09-27 170044.png\n",
      "Annotation 2021-09-27 170118.png\n",
      "Annotation 2021-09-27 170142.png\n",
      "Annotation 2021-09-27 170201.png\n",
      "Annotation 2021-09-27 170221.png\n",
      "Annotation 2021-09-27 170253.png\n",
      "Annotation 2021-09-27 170449.png\n",
      "Annotation 2021-09-27 170506.png\n",
      "Annotation 2021-09-27 170525.png\n",
      "Annotation 2021-09-27 170610.png\n",
      "Annotation 2021-09-27 170637.png\n",
      "Annotation 2021-09-27 170656.png\n",
      "Annotation 2021-09-27 170730.png\n",
      "Annotation 2021-09-27 170800.png\n",
      "Annotation 2021-09-27 172047.png\n",
      "Annotation 2021-09-27 172235.png\n",
      "Annotation 2021-09-27 172329.png\n",
      "Annotation 2021-09-27 172746.png\n",
      "Annotation 2021-09-27 172924.png\n",
      "Annotation 2021-09-27 173006.png\n",
      "Annotation 2021-09-27 173027.png\n",
      "Annotation 2021-09-27 173100.png\n",
      "Annotation 2021-09-27 173120.png\n",
      "Annotation 2021-09-27 173145.png\n",
      "Annotation 2021-09-27 173242.png\n",
      "Annotation 2021-09-27 173358.png\n",
      "Annotation 2021-09-27 173425.png\n",
      "Annotation 2021-09-27 173511.png\n",
      "Annotation 2021-09-27 173531.png\n",
      "Annotation 2021-09-27 173619.png\n",
      "Annotation 2021-09-27 173706.png\n",
      "Annotation 2021-09-27 173731.png\n",
      "Annotation 2021-09-27 173801.png\n",
      "Annotation 2021-09-27 173856.png\n",
      "Annotation 2021-09-27 173931.png\n",
      "Annotation 2021-09-27 174001.png\n",
      "Annotation 2021-09-27 174029.png\n",
      "Annotation 2021-09-27 174500.png\n",
      "Annotation 2021-09-27 174542.png\n",
      "Annotation 2021-09-27 174616.png\n",
      "Annotation 2021-09-27 174637.png\n",
      "Annotation 2021-09-27 174958.png\n",
      "Annotation 2021-09-27 175029.png\n",
      "Annotation 2021-09-27 175145.png\n",
      "Annotation 2021-09-27 175540.png\n",
      "Annotation 2021-09-27 175646.png\n",
      "Annotation 2021-09-27 175716.png\n",
      "Annotation 2021-09-27 175758.png\n",
      "Annotation 2021-09-27 175826.png\n",
      "Annotation 2021-09-27 175855.png\n",
      "Annotation 2021-09-27 175929.png\n",
      "Annotation 2021-09-27 175959.png\n",
      "Annotation 2021-09-27 180037.png\n",
      "Annotation 2021-09-27 180106.png\n",
      "Annotation 2021-09-27 180136.png\n",
      "Copy of IMG_20210924_041127.jpg\n",
      "Copy of IMG_20210925_062730.jpg\n",
      "Copy of IMG_20210925_062749.jpg\n",
      "Copy of IMG_20210925_062826.jpg\n",
      "Copy of IMG_20210925_063006.jpg\n",
      "Copy of IMG_20210925_063027.jpg\n",
      "Copy of IMG_20210925_063044.jpg\n",
      "Copy of IMG_20210925_063112.jpg\n",
      "Copy of IMG_20210925_063134.jpg\n",
      "Copy of IMG_20210925_063200.jpg\n",
      "Copy of IMG_20210925_063222.jpg\n",
      "Copy of IMG_20210925_063241.jpg\n",
      "Copy of IMG_20210925_063305.jpg\n",
      "Copy of IMG_20210925_063356.jpg\n",
      "Copy of IMG_20210925_063413.jpg\n",
      "Copy of IMG_20210925_063441.jpg\n",
      "Copy of IMG_20210925_064044.jpg\n",
      "Copy of IMG_20210925_064704.jpg\n",
      "Copy of IMG_20210925_081850.jpg\n",
      "Copy of IMG_20210925_081920.jpg\n",
      "Copy of IMG_20210925_081956.jpg\n",
      "Copy of IMG_20210925_083424.jpg\n",
      "Copy of IMG_20210925_083441.jpg\n",
      "Copy of IMG_20210925_083502.jpg\n",
      "Copy of IMG_20210925_083522.jpg\n",
      "Copy of IMG_20210925_083555.jpg\n",
      "Copy of IMG_20210925_083615.jpg\n",
      "Copy of IMG_20210925_083652.jpg\n",
      "Copy of IMG_20210925_083716.jpg\n",
      "Copy of IMG_20210925_083744.jpg\n",
      "Copy of IMG_20210925_083807.jpg\n",
      "Copy of IMG_20210925_083859.jpg\n",
      "Copy of IMG_20210925_090107.jpg\n",
      "Copy of IMG_20210925_090140.jpg\n",
      "Copy of IMG_20210925_090226.jpg\n",
      "Copy of IMG_20210925_090310.jpg\n",
      "Copy of IMG_20210925_090337.jpg\n",
      "Copy of IMG_20210925_094559.jpg\n",
      "Copy of IMG_20210925_094633.jpg\n",
      "Copy of IMG_20210925_114213.jpg\n",
      "Copy of IMG_20210925_114251.jpg\n",
      "Copy of IMG_20210925_114329.jpg\n",
      "Copy of IMG_20210925_114409.jpg\n",
      "Copy of IMG_20210925_114426.jpg\n",
      "Copy of IMG_20210925_114453.jpg\n",
      "Copy of IMG_20210925_114550.jpg\n",
      "Copy of IMG_20210925_114629.jpg\n",
      "Copy of IMG_20210925_114647.jpg\n",
      "Copy of IMG_20210925_114747.jpg\n",
      "Copy of IMG_20210925_114833.jpg\n",
      "Copy of IMG_20210925_114942.jpg\n",
      "Copy of IMG_20210925_115004.jpg\n",
      "Copy of IMG_20210925_115020.jpg\n",
      "Copy of IMG_20210925_115101.jpg\n",
      "Copy of IMG_20210925_115128.jpg\n",
      "Copy of IMG_20210925_115206.jpg\n",
      "Copy of IMG_20210925_115242.jpg\n",
      "Copy of IMG_20210925_115307.jpg\n",
      "Copy of IMG_20210925_115322.jpg\n",
      "Copy of IMG_20210925_115543.jpg\n",
      "Copy of IMG_20210925_230527.jpg\n",
      "Copy of IMG_20210925_230543.jpg\n",
      "Copy of IMG_20210925_230557.jpg\n",
      "Copy of IMG_20210925_230616.jpg\n",
      "Copy of IMG_20210925_230633.jpg\n",
      "Copy of IMG_20210925_230653.jpg\n",
      "Copy of IMG_20210925_230742.jpg\n",
      "Copy of IMG_20210925_230809.jpg\n",
      "Copy of IMG_20210925_230828.jpg\n",
      "Copy of IMG_20210925_230848.jpg\n",
      "Copy of IMG_20210925_230910.jpg\n",
      "Copy of IMG_20210925_230933.jpg\n",
      "Copy of IMG_20210925_230948.jpg\n",
      "Copy of IMG_20210925_231004.jpg\n",
      "Copy of IMG_20210925_231027.jpg\n",
      "Copy of IMG_20210925_231044.jpg\n",
      "Copy of IMG_20210925_231101.jpg\n",
      "Copy of IMG_20210925_231119.jpg\n",
      "Copy of IMG_20210925_231204.jpg\n",
      "Copy of IMG_20210925_231256.jpg\n",
      "Copy of IMG_20210925_231318.jpg\n",
      "Copy of IMG_20210925_231336.jpg\n",
      "Copy of IMG_20210925_231418.jpg\n",
      "Copy of IMG_20210925_231544.jpg\n",
      "Copy of IMG_20210925_231626.jpg\n",
      "Copy of IMG_20210925_231708.jpg\n",
      "Copy of IMG_20210925_231727.jpg\n",
      "Copy of IMG_20210925_231750.jpg\n",
      "Copy of IMG_20210925_231806.jpg\n",
      "Copy of IMG_20210925_231837.jpg\n",
      "Copy of IMG_20210925_231906.jpg\n",
      "Copy of IMG_20210925_231935.jpg\n",
      "Copy of Screenshot_2021-09-24-03-59-11-004_com.google.android.youtube.jpg\n",
      "Screenshot (257).png\n",
      "Screenshot (258).png\n",
      "Screenshot (259).png\n",
      "Screenshot (260).png\n",
      "Screenshot (261).png\n",
      "Screenshot (262).png\n",
      "Screenshot (263).png\n",
      "Screenshot (264).png\n",
      "Screenshot (265).png\n",
      "Screenshot (266).png\n",
      "Screenshot (267).png\n",
      "Screenshot (268).png\n",
      "Screenshot (269).png\n",
      "Screenshot (270).png\n",
      "Screenshot (271).png\n",
      "Screenshot (272).png\n",
      "Training set max value is:  2587.451171875\n"
     ]
    }
   ],
   "metadata": {}
  },
  {
   "cell_type": "code",
   "execution_count": 3,
   "source": [
    "train_x, test_x, train_y, test_y = train_test_split(keypoints, [1 for i in range(len(keypoints))], test_size=0.2, random_state=42)"
   ],
   "outputs": [],
   "metadata": {}
  },
  {
   "cell_type": "code",
   "execution_count": 4,
   "source": [
    "from sklearn.svm import OneClassSVM\n",
    "model = OneClassSVM(gamma='scale', nu=0.01)"
   ],
   "outputs": [],
   "metadata": {}
  },
  {
   "cell_type": "code",
   "execution_count": 5,
   "source": [
    "model.fit(train_x)"
   ],
   "outputs": [
    {
     "output_type": "execute_result",
     "data": {
      "text/plain": [
       "OneClassSVM(nu=0.01)"
      ]
     },
     "metadata": {},
     "execution_count": 5
    }
   ],
   "metadata": {}
  },
  {
   "cell_type": "code",
   "execution_count": 6,
   "source": [
    "yhat = model.predict(test_x)\n",
    "yhat"
   ],
   "outputs": [
    {
     "output_type": "execute_result",
     "data": {
      "text/plain": [
       "array([ 1,  1,  1,  1,  1,  1,  1,  1,  1,  1,  1,  1,  1,  1,  1,  1,  1,\n",
       "        1,  1,  1,  1,  1,  1,  1,  1,  1,  1,  1, -1,  1,  1,  1,  1,  1,\n",
       "        1,  1,  1,  1,  1,  1,  1,  1])"
      ]
     },
     "metadata": {},
     "execution_count": 6
    }
   ],
   "metadata": {}
  },
  {
   "cell_type": "code",
   "execution_count": null,
   "source": [],
   "outputs": [],
   "metadata": {}
  },
  {
   "cell_type": "code",
   "execution_count": 7,
   "source": [
    "len(yhat[yhat==1]) / len(yhat)"
   ],
   "outputs": [
    {
     "output_type": "execute_result",
     "data": {
      "text/plain": [
       "0.9761904761904762"
      ]
     },
     "metadata": {},
     "execution_count": 7
    }
   ],
   "metadata": {}
  },
  {
   "cell_type": "code",
   "execution_count": 9,
   "source": [
    "\n",
    "from sklearn.model_selection import train_test_split\n",
    "from sklearn.metrics import f1_score\n",
    "from sklearn.ensemble import IsolationForest\n",
    "\n",
    "# define outlier detection model\n",
    "model = IsolationForest(contamination=0.01)\n",
    "# fit on majority class\n",
    "\n",
    "model.fit(train_x)\n",
    "# detect outliers in the test set\n",
    "yhat = model.predict(test_x)\n",
    "# mark inliers 1, outliers -1\n",
    "# calculate score\n",
    "score = f1_score([1 for i in range(len(test_x))], yhat, zero_division=True)\n",
    "print('F1 Score: %.3f' % score)"
   ],
   "outputs": [
    {
     "output_type": "stream",
     "name": "stdout",
     "text": [
      "F1 Score: 1.000\n"
     ]
    }
   ],
   "metadata": {}
  },
  {
   "cell_type": "markdown",
   "source": [
    "# CNN Based Classifier"
   ],
   "metadata": {}
  },
  {
   "cell_type": "code",
   "execution_count": null,
   "source": [
    "# import torch\n",
    "from torch.utils.data import Dataset, DataLoader"
   ],
   "outputs": [],
   "metadata": {}
  },
  {
   "cell_type": "code",
   "execution_count": null,
   "source": [
    "class PoseEmbeddings(Dataset):\n",
    "    \n",
    "    def __init__(self, image_ids, device):\n",
    "        super().__init__()\n",
    "        self.device = device\n",
    "        self.image_ids = image_ids\n",
    "\n",
    "    def __len__(self):\n",
    "        return len(self.image_ids)\n",
    "\n",
    "    def __getitem(self, i):\n",
    "        pass"
   ],
   "outputs": [],
   "metadata": {}
  }
 ],
 "metadata": {
  "orig_nbformat": 4,
  "language_info": {
   "name": "python",
   "version": "3.8.10",
   "mimetype": "text/x-python",
   "codemirror_mode": {
    "name": "ipython",
    "version": 3
   },
   "pygments_lexer": "ipython3",
   "nbconvert_exporter": "python",
   "file_extension": ".py"
  },
  "kernelspec": {
   "name": "python3",
   "display_name": "Python 3.8.10 64-bit"
  },
  "interpreter": {
   "hash": "916dbcbb3f70747c44a77c7bcd40155683ae19c65e1c03b4aa3499c5328201f1"
  }
 },
 "nbformat": 4,
 "nbformat_minor": 2
}